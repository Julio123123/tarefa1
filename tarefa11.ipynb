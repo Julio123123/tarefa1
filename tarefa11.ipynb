{
  "nbformat": 4,
  "nbformat_minor": 0,
  "metadata": {
    "colab": {
      "provenance": [],
      "authorship_tag": "ABX9TyMj+dXTN156bGCnFWwFsTgm",
      "include_colab_link": true
    },
    "kernelspec": {
      "name": "python3",
      "display_name": "Python 3"
    },
    "language_info": {
      "name": "python"
    }
  },
  "cells": [
    {
      "cell_type": "markdown",
      "metadata": {
        "id": "view-in-github",
        "colab_type": "text"
      },
      "source": [
        "<a href=\"https://colab.research.google.com/github/Julio123123/tarefa1/blob/main/tarefa11.ipynb\" target=\"_parent\"><img src=\"https://colab.research.google.com/assets/colab-badge.svg\" alt=\"Open In Colab\"/></a>"
      ]
    },
    {
      "cell_type": "code",
      "execution_count": null,
      "metadata": {
        "id": "pai8hUtQMjCb"
      },
      "outputs": [],
      "source": [
        "#1. Crie um algoritmo que receba um valor em metros e converta para centímetros]\n",
        "\n",
        "metros = float(input('digite o valor em metros\\n'))\n",
        "print(\"\\n\")\n",
        "print(metros*10)\n",
        "print('esse é o valor em centimetros')"
      ]
    },
    {
      "cell_type": "code",
      "source": [
        "#2. . Crie um algoritmo que pergunte quanto você ganha por hora e o número de horas que você trabalha por mês, o algoritmo deve calcular e mostrar qual seu salário naquele mês.\n",
        "\n",
        "pagar = int(input('digite o quanto voce ganha por hora\\n'))\n",
        "hrs = int(input('digite o quantas horas voce trabalha por mes\\n'))\n",
        "\n",
        "salario = (pagar*hrs)\n",
        "print(f\"o seu salario no mes de março será:\\n{salario}\")"
      ],
      "metadata": {
        "id": "Zkf6RGRJPgPj"
      },
      "execution_count": null,
      "outputs": []
    },
    {
      "cell_type": "code",
      "source": [
        "#Crie um algoritmo que receba uma temperatura em Fahrenheit e converta para Celsius, utilizando a fórmula:\n",
        "\n",
        "#tempCelsius = 5 * ((tempFahren-32) / 9)\n",
        "\n",
        "farm = int(input('indique a temperatura em Fahrenheit:\\n'))\n",
        "tempCelsius = 5 * ((farm-32) / 9)\n",
        "print(tempCelsius)"
      ],
      "metadata": {
        "id": "HmPaF3zcaZbJ"
      },
      "execution_count": null,
      "outputs": []
    },
    {
      "cell_type": "code",
      "source": [
        "#Crie um algoritmo que receba a altura e o peso de uma pessoa e mostre seu Índice de Massa Corporal (IMC), utilizando a seguinte fórmula:\n",
        "\n",
        "peso = float(input('digite seu peso (kg)\\n'))\n",
        "altura = float(input('digite sua altura (m)\\n'))\n",
        "imc = peso/(altura *2)\n",
        "print(f\"seu imc é:{imc:.3f}\")"
      ],
      "metadata": {
        "colab": {
          "base_uri": "https://localhost:8080/"
        },
        "id": "KLOR6cM9dM0P",
        "outputId": "577ae34b-8321-4f3e-eb78-456ed4c17f87"
      },
      "execution_count": null,
      "outputs": [
        {
          "output_type": "stream",
          "name": "stdout",
          "text": [
            "digite seu peso (kg)\n",
            "88\n",
            "digite sua altura (m)\n",
            "1.80\n",
            "seu imc é:24.444\n"
          ]
        }
      ]
    },
    {
      "cell_type": "code",
      "source": [
        "#5. Zé Papo-de-Pescador, homem de bem, comprou um microcomputador para controlar \n",
        "#o rendimento diário de seu trabalho. Toda vez que ele traz um peso de peixes \n",
        "#maior que o estabelecido pelo regulamento de pesca do estado de São Paulo \n",
        "#(30 quilos) deve pagar uma multa de R$ 3,00 por\n",
        "# quilo excedente. Zé precisa que você faça um algoritmo que leia a variável\n",
        "# peso (peso de peixes) e calcule o excesso. Gravar na variável excesso a\n",
        "# quantidade de quilos além do limite e na variável multa o valor da multa\n",
        "# que Zé deverá pagar. Imprima os dados do algoritmo com as mensagens\n",
        "# adequadas.\n",
        "\n",
        "peixeT = float(input(\"qual o peso total do peixe?\"))\n",
        "\n",
        "if peixeT < 30:\n",
        "    print(\"Sem taxa\")\n",
        "else:\n",
        "    peixeT=peixeT-30\n",
        "    multa= 3 * peixeT\n",
        "    print(f'pagar taxa {multa}')"
      ],
      "metadata": {
        "id": "MTVvYbz7e8Yp"
      },
      "execution_count": null,
      "outputs": []
    },
    {
      "cell_type": "code",
      "source": [
        "#6. Crie um algoritmo que receba quanto você ganha por hora e quantas horas trabalhou no mês. O algoritmo deve calcular e mostrar o seu salário\n",
        "#no referido mês, sabendo que serão descontados 11% do Imposto de Rende (IR) e mais 8% do INSS. No final o algoritmo deve apresentar:\n",
        "#a. Salário bruto\n",
        "#b. Valor do imposto de renda\n",
        "#c. Valor do INSS\n",
        "#d. Salário líquido (líquido = bruto – impostos)\n",
        "\n",
        "pagar = int(input('digite o quanto voce ganha por hora\\n'))\n",
        "hrs = int(input('digite o quantas horas voce trabalha por mes\\n'))\n",
        "\n",
        "salario = (pagar*hrs)\n",
        "print(f\"o seu salario no mes de março será:\\n{salario}\")\n",
        "\n",
        "iRs = (salario * 0.11)\n",
        "iR = (salario - iRs)\n",
        "iNS = (salario * 0.08)\n",
        "iNSS = (salario - iNS)\n",
        "liquido = (salario - iRs - iNS)\n",
        "\n",
        "print(f\"A: Seu salario bruto é:\\n {salario}\\n2\")\n",
        "print(f\"B: Valor do imposto de renda:\\n {iRs}\\n2\")\n",
        "print(f\"C: O valor do INSS é:\\n {iNS}\")\n",
        "print(f\"D: O salario liquido é:\\n {liquido:.2f}\")"
      ],
      "metadata": {
        "id": "ggtt6SINgF7O"
      },
      "execution_count": null,
      "outputs": []
    },
    {
      "cell_type": "code",
      "source": [
        "#Você foi contratado pela Unimar para ajudar na reforma dos blocos, o seu papel é apoiar e facilitar as tomadas de decisões. Você vai ajudar a otimizar os gastos para pintura, \n",
        "#crie um programa para uma loja de tintas. O programa deverá pedir o tamanho em metros quadrados da área a ser pintada. Considere que a cobertura da tinta é de \n",
        "#1 litro para cada 3 metros quadrados e que a tinta é vendida em latas de 18 litros, que custam R$ 80,00. Informe ao usuário a quantidades de latas de tinta a serem compradas e o preço total.\n",
        "\n",
        "\n",
        "largo = float(input(\"qual a largura?\"))\n",
        "alto = float(input(\"qual a altura?\"))\n",
        "\n",
        "m2 = (largo * alto)\n",
        "tinta = (m2 / 3)\n",
        "valor = (tinta * 80)\n",
        "print(f\"o metro quadrado é:{m2}.\\n voce vai precisar de {tinta} litros de tinta.\\n voce pagara {valor} pela obra. \")"
      ],
      "metadata": {
        "colab": {
          "base_uri": "https://localhost:8080/"
        },
        "id": "MmSbb8N6d7sL",
        "outputId": "0e0dc1ce-0ee5-4440-a053-c64df1cc628a"
      },
      "execution_count": null,
      "outputs": [
        {
          "output_type": "stream",
          "name": "stdout",
          "text": [
            "qual a largura?29.5\n",
            "qual a altura?2.5\n",
            "o metro quadrado é:73.75.\n",
            " voce vai precisar de 24.583333333333332 litros de tinta.\n",
            " voce pagara 1966.6666666666665 pela obra. \n"
          ]
        }
      ]
    },
    {
      "cell_type": "code",
      "source": [],
      "metadata": {
        "id": "M7A72e8ghseA"
      },
      "execution_count": null,
      "outputs": []
    }
  ]
}