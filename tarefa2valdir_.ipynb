{
  "nbformat": 4,
  "nbformat_minor": 0,
  "metadata": {
    "colab": {
      "provenance": [],
      "authorship_tag": "ABX9TyMVXTj1d7ftaRXCGqj3/eii",
      "include_colab_link": true
    },
    "kernelspec": {
      "name": "python3",
      "display_name": "Python 3"
    },
    "language_info": {
      "name": "python"
    }
  },
  "cells": [
    {
      "cell_type": "markdown",
      "metadata": {
        "id": "view-in-github",
        "colab_type": "text"
      },
      "source": [
        "<a href=\"https://colab.research.google.com/github/Julio123123/tarefa1/blob/main/tarefa2valdir_.ipynb\" target=\"_parent\"><img src=\"https://colab.research.google.com/assets/colab-badge.svg\" alt=\"Open In Colab\"/></a>"
      ]
    },
    {
      "cell_type": "code",
      "execution_count": null,
      "metadata": {
        "id": "HzF8iiIM01Ls"
      },
      "outputs": [],
      "source": [
        "#1. Crie um algoritmo que receba um valor em minutos e converta para\n",
        "#segundos.\n",
        "m = int(input(\"DIGITE A MINUTOS:\\n\"))\n",
        "s = m * 60\n",
        "print(s)"
      ]
    },
    {
      "cell_type": "code",
      "source": [
        "#Crie um algoritmo que receba um valor em segundos e converta para\n",
        "#minutos\n",
        "\n",
        "s = int(input(\"DIGITE OS SEGUNDOS:\\n\"))\n",
        "a = s // 60\n",
        "b = s % 60\n",
        "\n",
        "print(f\"{a}:{b}\")"
      ],
      "metadata": {
        "id": "xgwFNwx41qvs"
      },
      "execution_count": null,
      "outputs": []
    },
    {
      "cell_type": "code",
      "source": [
        "#3. Crie três inputs que serão armazenados em variáveis, um para valores\n",
        "#inteiros (int), um para valores com casas decimais (float) e outro para valores\n",
        "#texto (string). Por fim mostre esses valores na tela.\n",
        "\n",
        "a = float(input(\"float\"))\n",
        "b = int(input(\"int\"))\n",
        "c = str(input(\"nome\"))\n",
        "\n",
        "print(f\"O nome digitado foi: {c}\\n inteiro foi {b} e o resto é {a}\")"
      ],
      "metadata": {
        "id": "cofHN8LP13zb"
      },
      "execution_count": null,
      "outputs": []
    },
    {
      "cell_type": "code",
      "source": [
        "#4. Crie um algoritmo em Python que peça três valores inteiros e mostre o\n",
        "#resultado da soma, da subtração, da divisão e da multiplicação dos 3 valores. \n",
        "\n",
        "a = float(input(\"Digite o primeiro número: \"))\n",
        "b = float(input(\"Digite o segundo número: \"))\n",
        "c = float(input(\"Digite o terceiro número: \"))\n",
        "\n",
        "soma = a + b + c\n",
        "sub = a - b - c\n",
        "div = (a / b) / c\n",
        "mult = a * b * c\n",
        "\n",
        "print(f\"O resultado da operação é:\\nSoma {soma}\\nSubtração {sub}\\nDivisão {div:.3f}\\nMultiplicação {mult}.\" )"
      ],
      "metadata": {
        "id": "W5ggS8Ml2ZAS"
      },
      "execution_count": null,
      "outputs": []
    },
    {
      "cell_type": "code",
      "source": [
        "#5 Crie um algoritmo em Python que peça dois valores com casas decimais\n",
        "#(float), mostre o resultado da divisão, da multiplicação, do resto            {sinal %}           (ou módulo)\n",
        "#e da divisão inteira. \n",
        "\n",
        "a = float(input(\"Digite o primeiro (número dois decimais): \"))\n",
        "b = float(input(\"Digite o segundo número (número dois decimais): \"))\n",
        "\n",
        "div = a / b\n",
        "mult = a * b\n",
        "rest = a % b\n",
        "inte = a // b\n",
        "\n",
        "print(f\"O resultado da operação é:\\nDivisão {div:.3f} \\nMultiplicação {mult:.3f} \\nResto {rest} \\nInteiro {inte}.\" )\n"
      ],
      "metadata": {
        "id": "Gl5kUdEV2ypC"
      },
      "execution_count": null,
      "outputs": []
    },
    {
      "cell_type": "code",
      "source": [
        "#6. Crie um algoritmo em Python que peça um valor inteiro (int) ao usuário e\n",
        "#informe qual intervalo de dezena ele se encaixa.\n",
        "#Por exemplo:\n",
        "#o valor 9 a dezena é 0\n",
        "#o valor 16 a dezena é 1\n",
        "#o valor 62 a dezena é 6.\n",
        "#Existe de mais uma forma de resolver com lógica bem diferentes. \n",
        "\n",
        "a = int(input(\"digite um numero inteiro:\\n\"))\n",
        "\n",
        "if a >= 9 and a <= 0:\n",
        "  print('0')\n",
        "elif a >= 9 and a <= 19:\n",
        "  print(\"1\")\n",
        "elif a >= 20 and a <= 29:\n",
        "  print(\"2\")\n",
        "elif a >= 30 and a <= 39:\n",
        "  print(\"3\")\n",
        "elif a >= 40 and a <= 49:\n",
        "  print(\"4\")\n",
        "elif a >= 50 and a <= 59:\n",
        "  print(\"5\")\n",
        "elif a >= 60 and a <= 69:\n",
        "  print(\"6\")\n",
        "elif a >= 70 and a <= 79:\n",
        "  print(\"7\")\n",
        "elif a >= 80 and a <= 89:\n",
        "  print(\"8\")\n",
        "elif a >= 90 and a <= 99:\n",
        "  print(\"9\")\n",
        "else:\n",
        "  print(\"é maior que 10\")"
      ],
      "metadata": {
        "id": "7GNJ_ajF3XSD"
      },
      "execution_count": null,
      "outputs": []
    },
    {
      "cell_type": "code",
      "source": [
        "#7. Crie um algoritmo em Python que peça um valor ao usuário e informe se é\n",
        "#dezena, centena ou milhar. \n",
        "\n",
        "a = int(input(\"Digite unm valor \\n\"))\n",
        "\n",
        "if a >= 0 and a <= 9:\n",
        "  print(\"\")\n",
        "elif a <= 99 and a >= 10:\n",
        "  print(\"é dezena\")\n",
        "elif a >= 100 and a <= 999:\n",
        "  print(\"centena\")\n",
        "elif a >= 1000 and a <= 9999:\n",
        "  print(\"milhar\")\n",
        "else:\n",
        "  print(\"é mais que milhar\")"
      ],
      "metadata": {
        "id": "j7i9DeUH3Xib"
      },
      "execution_count": null,
      "outputs": []
    },
    {
      "cell_type": "code",
      "source": [
        "#8. Crie um algoritmo em Python que seja possível de calcular a média entre 5\n",
        "#valores informados pelo usuário, mostrar.\n",
        "\n",
        "a = float(input(\"Digite um número:\\n\"))\n",
        "b = float(input(\"Digite um número:\\n\"))\n",
        "c = float(input(\"Digite um número:\\n\"))\n",
        "d = float(input(\"Digite um número:\\n\"))\n",
        "e = float(input(\"Digite um número:\\n\"))\n",
        "\n",
        "f = (a + b + c + d + e) /5\n",
        "\n",
        "print(f\"A média é {f}\")"
      ],
      "metadata": {
        "id": "x5DZVEbf3XuT"
      },
      "execution_count": null,
      "outputs": []
    },
    {
      "cell_type": "code",
      "source": [
        "#9. Faça um algoritmo em Python que peça ao usuário uma medida em metros\n",
        "#e apresente o resultado convertido para centímetro e quilômetro. \n",
        "\n",
        "a = float(input(\"Digite os metros:\\n\"))\n",
        "\n",
        "cm = a * 100\n",
        "km = a / 100\n",
        "\n",
        "print(f\"Valor inicial: {a}\\nEm centimentros: {cm}\\nQuilometros: {km}\")"
      ],
      "metadata": {
        "id": "8KhgMhzp32sk"
      },
      "execution_count": null,
      "outputs": []
    },
    {
      "cell_type": "code",
      "source": [
        "#10.Faça um programa que leia três números e mostre o menor e o maior deles. \n",
        "\n",
        "n1 = int(input(\"Coloque um numero INTEIRO:\\n\"))\n",
        "n2 = int(input(\"Coloque outro numero INTEIRO:\\n\"))\n",
        "n3 = int(input(\"Coloque um terceiro numero INTEIRO:\\n\"))\n",
        "\n",
        "if n1 > n2 and n1 > n3:\n",
        "  maior = n1\n",
        "  if n2 < n3:\n",
        "    menor = n2\n",
        "  else:\n",
        "    menor = n3\n",
        "elif n2 > n1 and n2 > n3:\n",
        "  maior = n2\n",
        "  if n3 < n1:\n",
        "    menor = n3\n",
        "  else:\n",
        "    menor = n1\n",
        "elif n3 > n1 and n3 > n2:\n",
        "  maior = n3\n",
        "  if n1 < n2:\n",
        "    menor = n1\n",
        "  else:\n",
        "    menor = n2\n",
        "\n",
        "print(f\"Maior = {maior}\\nMenor = {menor}\")"
      ],
      "metadata": {
        "id": "MvCQy8yz37LM"
      },
      "execution_count": null,
      "outputs": []
    },
    {
      "cell_type": "code",
      "source": [
        "#11.Faça um programa que leia três números e mostre estes em ordem decrescente. \n",
        "\n",
        "n1 = int(input(\"Coloque um numero INTEIRO:\\n\"))\n",
        "n2 = int(input(\"Coloque outro numero INTEIRO:\\n\"))\n",
        "n3 = int(input(\"Coloque um terceiro numero INTEIRO:\\n\"))\n",
        "\n",
        "if n1 > n2 and n1 > n3 and n2 > n3:\n",
        "  maior = n1\n",
        "  medio = n2\n",
        "  menor = n3\n",
        "\n",
        "elif n1 > n2 and n1 > n3 and n3 > n2:\n",
        "  maior = n1\n",
        "  medio = n3\n",
        "  menor = n2\n",
        "\n",
        "elif n2 > n1 and n1 > n3 and n2 > n3:\n",
        "  maior = n2\n",
        "  medio = n1\n",
        "  menor = n3\n",
        "\n",
        "elif n2 > n1 and n1 < n3 and n2 > n3:\n",
        "  maior = n2\n",
        "  medio = n3\n",
        "  menor = n1\n",
        "\n",
        "elif n3 > n1 and n2 < n3 and n2 < n1:\n",
        "  maior = n3\n",
        "  medio = n1\n",
        "  menor = n2\n",
        "\n",
        "elif n3 > n1 and n2 < n3 and n2 > n1:\n",
        "  maior = n3\n",
        "  medio = n2\n",
        "  menor = n1\n",
        "\n",
        "\n",
        "print(f\"Maior {maior}\\nMédio {medio}\\nMenor {menor}\")"
      ],
      "metadata": {
        "id": "X3VLKg5Z3_zE"
      },
      "execution_count": null,
      "outputs": []
    },
    {
      "cell_type": "code",
      "source": [
        "#12.Vamos criar uma calculadora em Python, você̂ deve pedir que o usuário informe a operação (+, -, *, /) que deseja realizar e dois valores, baseado na operação informada e nos valores, \n",
        "#apresente o resultado em tela. Fique à vontade para fazer as validações de valores que julgar \n",
        "#necessárias (você̂ irá aplicada: input, print, operações aritméticas básicas e comandos de controle)\n",
        "\n",
        "a = float(input(\"Insira um numero:\\n\"))\n",
        "b = float(input(\"Insira outro numero:\\n\"))\n",
        "c = input(\"insira a operação + (adição), - (subtração), * (multiplicação), /(divisão)\")\n",
        "\n",
        "if c == \"+\":\n",
        "  soma = a + b\n",
        "  print(soma)\n",
        "elif c == \"-\":\n",
        "  sub = a - b\n",
        "  print(sub)\n",
        "elif c == \"*\":\n",
        "  mult = a * b\n",
        "  print(mult)\n",
        "elif c == \"/\":\n",
        "  div = a / b\n",
        "  print(div)\n",
        "else:\n",
        "  print(\"Algo deu errado\")\n"
      ],
      "metadata": {
        "id": "rtCr0Oba4FzF"
      },
      "execution_count": null,
      "outputs": []
    },
    {
      "cell_type": "code",
      "source": [
        "#13.Vamos calcular a média do nosso aluno e verificar se o mesmo está\n",
        "#aprovado, reprovado ou de exame. O usuário deve informar 4 notas, sendo\n",
        "#uma nota de prova, uma de trabalho, uma de atividades e outro de\n",
        "#participação. A nota da prova tem peso 4, a nota de trabalho tem peso 3, a\n",
        "#nota de atividades tem peso 2 e a nota de participação tem peso 1. Calcule\n",
        "#a média pondera e partir dessa média informe qual a situação acadêmica do\n",
        "#aluno.\n",
        "\n",
        "a = int(input(\"insira sua nota 1:\\n\"))\n",
        "b = int(input(\"insira sua nota 2:\\n\"))\n",
        "c = int(input(\"insira sua nota 3:\\n\"))\n",
        "d = int(input(\"insira sua nota 4:\\n\"))\n",
        "\n",
        "ap = a * 4\n",
        "bp = b * 3\n",
        "cp = c * 2\n",
        "dp = d * 1\n",
        "nota = (ap + bp + cp + dp) /10\n",
        "\n",
        "if nota > 5:\n",
        "  print(\"aprovado\")\n",
        "else:\n",
        "  print(\"reprovado\")"
      ],
      "metadata": {
        "id": "n4bSO4wy4Sk8"
      },
      "execution_count": null,
      "outputs": []
    },
    {
      "cell_type": "code",
      "source": [
        "#14.Crie um algoritmo que calcule as raízes de uma equação do segundo grau,\n",
        "#na forma ax2 + bx + c. O programa deverá pedir os valores de a, b e c e fazer\n",
        "#as consistências, informando ao usuário nas seguintes situações:\n",
        "#o Se o usuário informar o valor de A igual a zero, a equação não é do\n",
        "#segundo grau e o programa não deve fazer pedir os demais valores,\n",
        "#sendo encerrado;\n",
        "#o Se o delta calculado for negativo, a equação não possui raízes reais.\n",
        "#Informe ao usuário e encerre o programa;\n",
        "#o Se o delta calculado for igual a zero a equação possui apenas uma\n",
        "#raiz real; informe-a ao usuário;\n",
        "#o Se o delta for positivo, a equação possui duas raízes reais; informe-as\n",
        "#ao usuário;\n",
        "\n",
        "a = int(input(\"Insira um numero:\\n\"))\n",
        "if a == 0:\n",
        "  print(\"acabou aqui\")\n",
        "\n",
        "else:\n",
        "  b = int(input(\"Insira um outro numero:\\n\"))\n",
        "  if b < 0:\n",
        "    print(\"acabou aqui, não existe 2 raizes\")\n",
        "\n",
        "  else:\n",
        "    c = int(input(\"Insira um terceiro numero:\\n\"))\n",
        "    d = b * -1\n",
        "    delta = (b **2) - ((4 * a) * c )\n",
        "  \n",
        "  if delta == 0:\n",
        "    print(\"possui apenas uma raiz real\")\n",
        "    conta = d / (2 * a)\n",
        "    print(f\"o resultado é {conta}\") \n",
        "\n",
        "  else:\n",
        "    resu_a = (d + delta) / (2 *a)\n",
        "    resu_b = (d - delta) / (2 *a)\n",
        "    print(f\"resultado A = {resu_a}\\nresultado B = {resu_b}\")"
      ],
      "metadata": {
        "id": "l1XHx-S14Yn4"
      },
      "execution_count": null,
      "outputs": []
    },
    {
      "cell_type": "code",
      "source": [
        "#15.Você̂ foi contratado por uma grande indústria da sua cidade para auxiliar o\n",
        "#RH com o desenvolvimento de um software, a empresa foi comprada por um\n",
        "#grande grupo internacional, isso foi uma boa notícia para todos os\n",
        "#funcionários pois irão receber um aumento. O seu papel como desenvolvedor\n",
        "#é criar um programa que irá ajudar o RH a calcular os reajustes. Para\n",
        "#desenvolver você̂ precisa saber de algumas regras, todos os funcionários irão\n",
        "#receber algum aumento, mas essa porcentagem vai variar conforme as faixas\n",
        "#salariais da seguinte forma:\n",
        "#o salários até R$ 800,00: aumento de 20%\n",
        "#o salários acima de R$ 800,00 até R$ 1300,00: aumento de 15%\n",
        "#o salários acima de R$ 1300,00 e R$ 2500,00: aumento de 10%\n",
        "#o salários de R$ 2500,00 em diante: aumento de 5%\n",
        "#Após o aumento ser realizado, informe na tela:\n",
        "#o salário antes do reajuste;\n",
        "#o percentual de aumento aplicado;\n",
        "#o valor do aumento;\n",
        "#o novo salário, após o aumento.\n",
        "\n",
        "a = float(input(\"Qual o seu salario?\\n\"))\n",
        "\n",
        "if a < 800.00 :\n",
        "  valor_a = a * 0.2\n",
        "  valor_aa = a + valor_a\n",
        "  print(f\"Valor inicial {a}\\nValor com aumento {valor_a}\\nValor agora {valor_aa}\")\n",
        "elif a > 800.01 and a < 1300.00 :\n",
        "  valor_b = a * 0.15\n",
        "  valor_ab = a + valor_b\n",
        "  print(f\"Valor inicial {a}\\nValor com aumento {valor_b}\\nValor agora {valor_ab}\")\n",
        "elif a > 1300.01 and a < 2500.00 :\n",
        "  valor_c = a * 0.1\n",
        "  valor_ac = a + valor_c\n",
        "  print(f\"Valor inicial {a}\\nValor com aumento {valor_c}\\nValor agora {valor_ac}\")\n",
        "elif a > 2500.01:\n",
        "  valor_d = a * 0.05\n",
        "  valor_ad = a + valor_d\n",
        "  print(f\"Valor inicial {a}\\nValor com aumento {valor_d}\\nValor agora {valor_ad}\")\n",
        "\n"
      ],
      "metadata": {
        "id": "Q6w0YbfR4auA",
        "colab": {
          "base_uri": "https://localhost:8080/"
        },
        "outputId": "9c4276ed-b83f-4b30-d9e2-c525f3085c36"
      },
      "execution_count": null,
      "outputs": [
        {
          "output_type": "stream",
          "name": "stdout",
          "text": [
            "Qual o seu salario?\n",
            "900\n",
            "Valor inicial 900.0\n",
            "Valor com aumento 135.0\n",
            "Valor agora 1035.0\n"
          ]
        }
      ]
    },
    {
      "cell_type": "code",
      "source": [
        "#16.Faça um Programa que leia um número inteiro menor que 1000 e imprima a\n",
        "#quantidade de b, c e d do mesmo.\n",
        "#Observando os termos no plural a colocação do \"e\", da vírgula entre outros.\n",
        "#Exemplo:\n",
        "#o 326 = 3 b, 2 c e 6 d\n",
        "#o 12 = 1 dezena e 2 d\n",
        "#Testar com: 326, 300, 100, 320, 310,305, 301, 101, 311, 111, 25, 20, 10, 21,\n",
        "#11, 1, 7 e 16\n",
        "\n",
        "\n",
        "a = int(input(\"Digite um número inteiro menor que 1000: \\n\"))\n",
        "\n",
        "if a >= 1000:\n",
        "    print(\"Número inválido.\\nDigite um número menor que 1000.\\n\")\n",
        "else:\n",
        "    b = (a // 100)\n",
        "    c = ((a % 100) // 10)\n",
        "    d = ((a % 100) % 10)\n",
        "\n",
        "    print(a, \"=\", end=\" \")\n",
        "\n",
        "    if b > 0:\n",
        "        if b == 1:\n",
        "            print(\"1 centena\", end=\"\")\n",
        "        else:\n",
        "            print(f\"{b} centena\", end=\"\")\n",
        "        \n",
        "        if c > 0 and d > 0:\n",
        "            print(\", \", end=\"\")\n",
        "        elif c > 0 or d > 0:\n",
        "            print(\" e \", end=\"\")\n",
        "    \n",
        "    if c > 0:\n",
        "        if c == 1:\n",
        "            print(\"1 dezena\\n\", end=\"\")\n",
        "        else:\n",
        "            print(f\"{c} dezena\\n\", end=\"\")\n",
        "        \n",
        "        if d > 0:\n",
        "            print(\" e \\n\", end=\"\")\n",
        "    \n",
        "    if d > 0:\n",
        "        if d == 1:\n",
        "            print(\"1 unidade\", end=\"\")\n",
        "        else:\n",
        "            print(f\"{d} unidade\", end=\"\")"
      ],
      "metadata": {
        "id": "00Xl8RDGVK0z",
        "colab": {
          "base_uri": "https://localhost:8080/"
        },
        "outputId": "bf9a6fa1-d336-49f9-c7e4-9454836bb375"
      },
      "execution_count": null,
      "outputs": [
        {
          "output_type": "stream",
          "name": "stdout",
          "text": [
            "Digite um número inteiro menor que 1000: \n",
            "845\n",
            "845 = 8 centena, 4 dezena\n",
            " e \n",
            "5 unidade"
          ]
        }
      ]
    },
    {
      "cell_type": "code",
      "source": [
        "#17.Crie um algoritmo para um caixa eletrônico. O programa deverá perguntar ao\n",
        "#usuário a valor do saque e depois informar quantas notas de cada valor serão\n",
        "#fornecidas. As notas disponíveis serão as de 1, 5, 10, 50 e 100 reais. O valor\n",
        "#mínimo é de 10 reais e o máximo de 600 reais. O programa não deve se\n",
        "#preocupar com a quantidade de notas existentes na máquina.\n",
        "#a. Exemplo 1: Para sacar a quantia de 256 reais, o programa fornece\n",
        "#duas notas de 100, uma nota de 50, uma nota de 5 e uma nota de 1;\n",
        "#b. Exemplo 2: Para sacar a quantia de 399 reais, o programa fornece três\n",
        "#notas de 100, uma nota de 50, quatro notas de 10, uma nota de 5 e\n",
        "#quatro notas de 1.\n",
        "\n",
        "s = int(input(\"Qual o valor?\\n\"))\n",
        "cem = s // 100\n",
        "s = s - cem * 100\n",
        "cinq = s // 50\n",
        "s = s - cinq * 50\n",
        "dez = s // 10 \n",
        "s = s - dez * 10\n",
        "five = s // 5\n",
        "s = s - five * 5\n",
        "um = s\n",
        "\n",
        "print(f\"Notas de 100: \\n{cem}\\nNotas de 50:\\n{cinq}\\nNotas de 10:\\n{dez}\\nNotas de 5:\\n{five}\\nNotas de um:\\n{um}\")\n",
        "\n"
      ],
      "metadata": {
        "id": "TJ9XugMAWlFa",
        "colab": {
          "base_uri": "https://localhost:8080/"
        },
        "outputId": "0d42b61b-0d14-4627-8bcf-dbd67049f29d"
      },
      "execution_count": null,
      "outputs": [
        {
          "output_type": "stream",
          "name": "stdout",
          "text": [
            "Qual o valor?\n",
            "867\n",
            "Notas de 100: \n",
            "8\n",
            "Notas de 50:\n",
            "1\n",
            "Notas de 10:\n",
            "1\n",
            "Notas de 5:\n",
            "1\n",
            "Notas de um:\n",
            "2\n"
          ]
        }
      ]
    },
    {
      "cell_type": "code",
      "source": [
        "#18.Faça um Programa que peça um número inteiro e determine se ele é par ou\n",
        "#ímpar. Dica: utilize o operador módulo (resto da divisão).\n",
        "\n",
        "num = float(input(\"Digite um número inteiro:\\n\"))\n",
        "\n",
        "if num % 2 == 0:\n",
        "    print(f\"{num}\\n é par.\")\n",
        "else:\n",
        "    print(f\"{num}\\n é ímpar.\")"
      ],
      "metadata": {
        "id": "pbrY4znAWnl7"
      },
      "execution_count": null,
      "outputs": []
    },
    {
      "cell_type": "code",
      "source": [
        "#19.Uma fruteira está vendendo frutas com a seguinte tabela de preços\n",
        "#Até 5kg Acima de 5kg\n",
        "#Morango R$ 2,50 por kg R$ 2,20 por kg\n",
        "#Maça R$ 1,80 por kg R$ 1,50 por kg\n",
        "#Se o cliente comprar mais de 8 Kg em frutas ou o valor total da compra\n",
        "#ultrapassar R$ 25,00, receberá ainda um desconto de 10% sobre este total.\n",
        "#Escreva um algoritmo para ler a quantidade (em Kg) de morangos e a\n",
        "#quantidade (em Kg) de maças adquiridas e escreva o valor a ser pago pelo cliente.\n",
        "\n",
        "mo = float(input(\"Qual o peso em kg da maça?\\n\"))\n",
        "ma = float(input(\"Qual o peso em kg do morango?\\n\"))\n",
        "\n",
        "if mo > 5:\n",
        "  pmo = mo * 2.5\n",
        "else:\n",
        "  pmo = mo * 2.2\n",
        "if ma > 5:\n",
        "  pma = ma * 2.5\n",
        "else:\n",
        "  pma = ma * 2.2\n",
        "\n",
        "f = pmo + pma\n",
        "\n",
        "if pmo + pma > 25 or mo + ma > 8:\n",
        "  d = (pmo + pma) * 0.10\n",
        "  f = pmo + pmo -+ d\n",
        "\n",
        "print(f)"
      ],
      "metadata": {
        "id": "p45gfPrXWpGp"
      },
      "execution_count": null,
      "outputs": []
    },
    {
      "cell_type": "code",
      "source": [
        "#20.Crie um algoritmo que peça um número correspondente a um determinado\n",
        "#ano e em seguida informe se este ano é ou não bissexto. Regra:\n",
        "#Para ser bissexto o ano deve:\n",
        "#o ser múltiplo de 4 E NÃO ser múltiplo de 100\n",
        "#o ser múltiplo de 400\n",
        " \n",
        "anoA = int(input(\"Digite o ano:\\n\"))\n",
        "\n",
        "if (anoA % 4 == 0 and anoA % 100 != 0) or (anoA % 400 == 0) :\n",
        "  print(\"é bissexto\")\n",
        "else:\n",
        "  print(\"não é\")"
      ],
      "metadata": {
        "id": "vvJSKMIfWqoZ"
      },
      "execution_count": null,
      "outputs": []
    }
  ]
}